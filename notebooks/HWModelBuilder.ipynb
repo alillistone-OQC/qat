{
 "cells": [
  {
   "cell_type": "code",
   "execution_count": 8,
   "metadata": {},
   "outputs": [],
   "source": [
    "import numpy as np\n",
    "import random\n",
    "\n",
    "from qat.model.builder import QuantumHardwareModelBuilder\n",
    "from qat.model.component import make_refdict\n",
    "from qat.model.device import PhysicalBaseband, PhysicalChannel, Qubit, Resonator, PulseChannel\n",
    "from qat.model.hardware_model import QuantumHardwareModel\n",
    "\n",
    "from qat.purr.compiler.devices import ChannelType"
   ]
  },
  {
   "cell_type": "code",
   "execution_count": 9,
   "metadata": {},
   "outputs": [],
   "source": [
    "def build_hardware(n_qubits=4, connectivity=None):\n",
    "\n",
    "    builder = QuantumHardwareModelBuilder()\n",
    "    \n",
    "    for q_index in range(n_qubits):\n",
    "        \n",
    "        baseband_r = builder.add_physical_baseband(\n",
    "                            frequency=np.random.uniform(1e05, 1e07), \n",
    "                            if_frequency=np.random.uniform(1e05, 1e07)\n",
    "                        )\n",
    "        \n",
    "        baseband_q = builder.add_physical_baseband(\n",
    "                            frequency=np.random.uniform(1e05, 1e07), \n",
    "                            if_frequency=np.random.uniform(1e05, 1e07)\n",
    "                        )\n",
    "\n",
    "        physical_channel_r = builder.add_physical_channel(\n",
    "                            baseband=baseband_r,\n",
    "                            sample_time=np.random.uniform(1e-10, 1e-08), \n",
    "                            phase_iq_offset=np.random.uniform(0.0, 1.0),\n",
    "                            bias=np.random.uniform(-1.0, 1.0),\n",
    "                            acquire_allowed=True)\n",
    "        \n",
    "        physical_channel_q = builder.add_physical_channel(\n",
    "                            baseband=baseband_q,\n",
    "                            sample_time=np.random.uniform(1e-10, 1e-08), \n",
    "                            phase_iq_offset=np.random.uniform(0.0, 1.0),\n",
    "                            bias=np.random.uniform(-1.0, 1.0),\n",
    "                            acquire_allowed=False)\n",
    "\n",
    "        resonator = builder.add_resonator(\n",
    "                                frequency=np.random.uniform(1e06, 200e06),\n",
    "                                physical_channel=physical_channel_r)\n",
    "        \n",
    "        qubit = builder.add_qubit(index=q_index, \n",
    "                                  frequency=np.random.uniform(1e08, 5e09),\n",
    "                                  physical_channel=physical_channel_q,\n",
    "                                  measure_device=resonator)\n",
    "    \n",
    "    builder.add_connectivity(connectivity=connectivity)\n",
    "        \n",
    "    return builder.model\n",
    "\n"
   ]
  },
  {
   "cell_type": "code",
   "execution_count": 10,
   "metadata": {},
   "outputs": [
    {
     "data": {
      "text/plain": [
       "True"
      ]
     },
     "execution_count": 10,
     "metadata": {},
     "output_type": "execute_result"
    }
   ],
   "source": [
    "n_qubits = 10\n",
    "\n",
    "qubits = list(range(0, n_qubits))\n",
    "random.shuffle(qubits)\n",
    "connectivity = [(q1, q2) for q1, q2 in zip(qubits[: len(qubits) // 2], qubits[len(qubits) // 2 :])]\n",
    "\n",
    "hw = build_hardware(n_qubits=n_qubits, connectivity=connectivity)\n",
    "\n",
    "hw2 = QuantumHardwareModel(**hw.model_dump())\n",
    "\n",
    "hw._deepequals(hw2)"
   ]
  },
  {
   "cell_type": "code",
   "execution_count": null,
   "metadata": {},
   "outputs": [],
   "source": []
  }
 ],
 "metadata": {
  "kernelspec": {
   "display_name": ".venv",
   "language": "python",
   "name": "python3"
  },
  "language_info": {
   "codemirror_mode": {
    "name": "ipython",
    "version": 3
   },
   "file_extension": ".py",
   "mimetype": "text/x-python",
   "name": "python",
   "nbconvert_exporter": "python",
   "pygments_lexer": "ipython3",
   "version": "3.12.6"
  }
 },
 "nbformat": 4,
 "nbformat_minor": 2
}
