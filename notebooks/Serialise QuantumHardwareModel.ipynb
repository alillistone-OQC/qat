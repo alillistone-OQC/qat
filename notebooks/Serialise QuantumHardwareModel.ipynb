{
 "cells": [
  {
   "cell_type": "code",
   "execution_count": 1,
   "metadata": {},
   "outputs": [],
   "source": [
    "import numpy as np\n",
    "\n",
    "from qat.model.component import make_refdict\n",
    "from qat.model.device import PhysicalBaseband, PhysicalChannel, PulseChannel, Resonator, Qubit\n",
    "from qat.model.hardware_model import QuantumHardwareModel"
   ]
  },
  {
   "cell_type": "code",
   "execution_count": 2,
   "metadata": {},
   "outputs": [],
   "source": [
    "def make_Hardware(count=10, connections=3, seed=42):\n",
    "    rng = np.random.default_rng(seed)\n",
    "    pick = lambda L, size=3: make_refdict(*rng.choice(L, size=size))\n",
    "    pick_pulse_channels = lambda pulse_channels, physical_channel: make_refdict(*[pulse_ch for pulse_ch in pulse_channels if pulse_ch.physical_channel == physical_channel])\n",
    "    physical_basebands = [PhysicalBaseband() for _ in range(count)]\n",
    "    physical_channels = [PhysicalChannel(baseband=list(pick(physical_basebands, 1).values())[0]) for _ in range(count//5)]\n",
    "    pulse_channels = [PulseChannel(physical_channel=physical_channel, auxiliary_qubits=[]) for physical_channel in physical_channels]\n",
    "    resonators = [Resonator(physical_channel=physical_channel, pulse_channels=pick_pulse_channels(pulse_channels=pulse_channels, physical_channel=physical_channels[0])) for physical_channel in list(pick(physical_channels, count//2).values())]\n",
    "    qubits = [Qubit(physical_channel=physical_channel, pulse_channels=pick_pulse_channels(pulse_channels=pulse_channels, physical_channel=physical_channels[0]), measure_device=list(pick(resonators, 1).values())[0]) for physical_channel in list(pick(physical_channels, count//2).values())] \n",
    "\n",
    "    for pulse_channel in pulse_channels:\n",
    "        pulse_channel.auxiliary_qubits = list(pick(qubits, 3).values())\n",
    "\n",
    "    return QuantumHardwareModel(physical_basebands=make_refdict(*physical_basebands),\n",
    "                                physical_channels=make_refdict(*physical_channels),\n",
    "                                pulse_channels=make_refdict(*pulse_channels),\n",
    "                                qubits=make_refdict(*qubits),\n",
    "                                resonators=make_refdict(*resonators))"
   ]
  },
  {
   "cell_type": "code",
   "execution_count": 3,
   "metadata": {},
   "outputs": [
    {
     "data": {
      "text/plain": [
       "True"
      ]
     },
     "execution_count": 3,
     "metadata": {},
     "output_type": "execute_result"
    }
   ],
   "source": [
    "hw = make_Hardware(count=20)\n",
    "\n",
    "serialised_hw = hw.model_dump()\n",
    "\n",
    "deserialised_hw = QuantumHardwareModel(**serialised_hw)\n",
    "\n",
    "hw._deepequals(deserialised_hw)"
   ]
  },
  {
   "cell_type": "code",
   "execution_count": null,
   "metadata": {},
   "outputs": [],
   "source": []
  },
  {
   "cell_type": "code",
   "execution_count": null,
   "metadata": {},
   "outputs": [],
   "source": []
  },
  {
   "cell_type": "code",
   "execution_count": null,
   "metadata": {},
   "outputs": [],
   "source": []
  }
 ],
 "metadata": {
  "kernelspec": {
   "display_name": ".venv",
   "language": "python",
   "name": "python3"
  },
  "language_info": {
   "codemirror_mode": {
    "name": "ipython",
    "version": 3
   },
   "file_extension": ".py",
   "mimetype": "text/x-python",
   "name": "python",
   "nbconvert_exporter": "python",
   "pygments_lexer": "ipython3",
   "version": "3.12.6"
  }
 },
 "nbformat": 4,
 "nbformat_minor": 2
}
