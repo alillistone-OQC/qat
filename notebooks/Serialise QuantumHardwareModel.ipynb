{
 "cells": [
  {
   "cell_type": "code",
   "execution_count": 1,
   "metadata": {},
   "outputs": [],
   "source": [
    "import numpy as np\n",
    "\n",
    "from qat.model.component import make_refdict\n",
    "from qat.model.device import PhysicalBaseband, PhysicalChannel, PulseChannel\n",
    "from qat.model.hardware_model import QuantumHardwareModel"
   ]
  },
  {
   "cell_type": "code",
   "execution_count": 2,
   "metadata": {},
   "outputs": [],
   "source": [
    "def make_Hardware(count=10, connections=3, seed=42):\n",
    "    rng = np.random.default_rng(seed)\n",
    "    pick = lambda L, size=3: make_refdict(*rng.choice(L, size=size))\n",
    "    physical_basebands = [PhysicalBaseband() for _ in range(count)]\n",
    "    physical_channels = [PhysicalChannel(baseband=list(pick(physical_basebands, 1).values())[0]) for _ in range(count)]\n",
    "    pulse_channels = [PulseChannel(physical_channel=list(pick(physical_channels, 1).values())[0], auxiliary_qubits=[]) for _ in range(count)]\n",
    "    qubits = [] # finish this\n",
    "    resonators = [] # finish this\n",
    "\n",
    "    #for pulse_channel in pulse_channels:\n",
    "    #    pulse_channel.auxiliary_qubits = list(pick(qubits, 3).values())\n",
    "\n",
    "    return QuantumHardwareModel(physical_basebands=make_refdict(*physical_basebands),\n",
    "                                physical_channels=make_refdict(*physical_channels),\n",
    "                                pulse_channels=make_refdict(*pulse_channels),\n",
    "                                qubits=make_refdict(*qubits),\n",
    "                                resonators=make_refdict(*resonators))"
   ]
  },
  {
   "cell_type": "code",
   "execution_count": 3,
   "metadata": {},
   "outputs": [
    {
     "data": {
      "text/plain": [
       "{'physical_basebands': {'ef569ac8-7acc-45ce-9754-a0a179711fb9': {'uuid': 'ef569ac8-7acc-45ce-9754-a0a179711fb9'},\n",
       "  'f1709708-646e-42a4-b100-eb6d2fa9afae': {'uuid': 'f1709708-646e-42a4-b100-eb6d2fa9afae'},\n",
       "  '73b24030-dec2-4701-aa76-27f0b676925f': {'uuid': '73b24030-dec2-4701-aa76-27f0b676925f'},\n",
       "  'faa4c489-71e4-417e-9047-fe929642e1b6': {'uuid': 'faa4c489-71e4-417e-9047-fe929642e1b6'},\n",
       "  '23de1e3e-8e48-4560-ba29-16e541060f1f': {'uuid': '23de1e3e-8e48-4560-ba29-16e541060f1f'},\n",
       "  '2afe6136-82ee-4809-8ba7-638788626db8': {'uuid': '2afe6136-82ee-4809-8ba7-638788626db8'},\n",
       "  'e4c32014-5dde-40c5-b571-2210b6b251e6': {'uuid': 'e4c32014-5dde-40c5-b571-2210b6b251e6'},\n",
       "  'e460e75e-56d6-4671-80ff-14c0394439c0': {'uuid': 'e460e75e-56d6-4671-80ff-14c0394439c0'},\n",
       "  '246547a2-99e7-433e-a6c4-bb60cbbe2b98': {'uuid': '246547a2-99e7-433e-a6c4-bb60cbbe2b98'},\n",
       "  'b08228e1-ceed-4f97-b37f-66a69a54dca6': {'uuid': 'b08228e1-ceed-4f97-b37f-66a69a54dca6'}},\n",
       " 'physical_channels': {'2ef70273-735d-4a66-ad6d-efdd761b0d4e': {'uuid': '2ef70273-735d-4a66-ad6d-efdd761b0d4e',\n",
       "   'baseband': {'uuid': 'ef569ac8-7acc-45ce-9754-a0a179711fb9'}},\n",
       "  '4d79ba76-6efd-4c5f-b7f7-66e2581abcf9': {'uuid': '4d79ba76-6efd-4c5f-b7f7-66e2581abcf9',\n",
       "   'baseband': {'uuid': 'e460e75e-56d6-4671-80ff-14c0394439c0'}},\n",
       "  '399713a4-bec8-49a5-a764-c7b012946ad8': {'uuid': '399713a4-bec8-49a5-a764-c7b012946ad8',\n",
       "   'baseband': {'uuid': 'e4c32014-5dde-40c5-b571-2210b6b251e6'}},\n",
       "  'e7283966-e664-4619-9923-3c621f5b02ba': {'uuid': 'e7283966-e664-4619-9923-3c621f5b02ba',\n",
       "   'baseband': {'uuid': '23de1e3e-8e48-4560-ba29-16e541060f1f'}},\n",
       "  '91c49729-333a-4f1f-a3fc-012575e6045d': {'uuid': '91c49729-333a-4f1f-a3fc-012575e6045d',\n",
       "   'baseband': {'uuid': '23de1e3e-8e48-4560-ba29-16e541060f1f'}},\n",
       "  'f2068117-da06-4bda-8a5e-4bbfcd5a77eb': {'uuid': 'f2068117-da06-4bda-8a5e-4bbfcd5a77eb',\n",
       "   'baseband': {'uuid': '246547a2-99e7-433e-a6c4-bb60cbbe2b98'}},\n",
       "  '1cb3765b-4447-4757-ac4d-bd0b0ca92c32': {'uuid': '1cb3765b-4447-4757-ac4d-bd0b0ca92c32',\n",
       "   'baseband': {'uuid': 'ef569ac8-7acc-45ce-9754-a0a179711fb9'}},\n",
       "  '15721e31-1bf7-4770-9a7f-552ed35b55e6': {'uuid': '15721e31-1bf7-4770-9a7f-552ed35b55e6',\n",
       "   'baseband': {'uuid': 'e4c32014-5dde-40c5-b571-2210b6b251e6'}},\n",
       "  '21320d2d-2906-4e26-952e-64c8806cacf8': {'uuid': '21320d2d-2906-4e26-952e-64c8806cacf8',\n",
       "   'baseband': {'uuid': '73b24030-dec2-4701-aa76-27f0b676925f'}},\n",
       "  '254b8177-654a-4341-99bf-01368d221320': {'uuid': '254b8177-654a-4341-99bf-01368d221320',\n",
       "   'baseband': {'uuid': 'ef569ac8-7acc-45ce-9754-a0a179711fb9'}}},\n",
       " 'pulse_channels': {'acb22983-278a-40bd-aa20-9ff80b45964d': {'uuid': 'acb22983-278a-40bd-aa20-9ff80b45964d',\n",
       "   'physical_channel': {'uuid': 'f2068117-da06-4bda-8a5e-4bbfcd5a77eb'},\n",
       "   'auxiliary_qubits': []},\n",
       "  '623ea974-f138-40d6-bcd0-00539de84398': {'uuid': '623ea974-f138-40d6-bcd0-00539de84398',\n",
       "   'physical_channel': {'uuid': '254b8177-654a-4341-99bf-01368d221320'},\n",
       "   'auxiliary_qubits': []},\n",
       "  '3c4c4669-6bb0-4e7a-beab-051df0de4f30': {'uuid': '3c4c4669-6bb0-4e7a-beab-051df0de4f30',\n",
       "   'physical_channel': {'uuid': '15721e31-1bf7-4770-9a7f-552ed35b55e6'},\n",
       "   'auxiliary_qubits': []},\n",
       "  '473a2cad-9f8c-4aff-af5e-184a45221814': {'uuid': '473a2cad-9f8c-4aff-af5e-184a45221814',\n",
       "   'physical_channel': {'uuid': '15721e31-1bf7-4770-9a7f-552ed35b55e6'},\n",
       "   'auxiliary_qubits': []},\n",
       "  '750b4f3d-217e-4c1a-83b1-97f34e167b15': {'uuid': '750b4f3d-217e-4c1a-83b1-97f34e167b15',\n",
       "   'physical_channel': {'uuid': '15721e31-1bf7-4770-9a7f-552ed35b55e6'},\n",
       "   'auxiliary_qubits': []},\n",
       "  'e500fbfd-ff27-42cb-9efb-004d36d24b1b': {'uuid': 'e500fbfd-ff27-42cb-9efb-004d36d24b1b',\n",
       "   'physical_channel': {'uuid': '15721e31-1bf7-4770-9a7f-552ed35b55e6'},\n",
       "   'auxiliary_qubits': []},\n",
       "  '9c8b8127-0a54-4555-896a-f165b4d1c5de': {'uuid': '9c8b8127-0a54-4555-896a-f165b4d1c5de',\n",
       "   'physical_channel': {'uuid': 'f2068117-da06-4bda-8a5e-4bbfcd5a77eb'},\n",
       "   'auxiliary_qubits': []},\n",
       "  'aff9d5f1-17e5-4aa4-9336-3d84825d2b67': {'uuid': 'aff9d5f1-17e5-4aa4-9336-3d84825d2b67',\n",
       "   'physical_channel': {'uuid': '4d79ba76-6efd-4c5f-b7f7-66e2581abcf9'},\n",
       "   'auxiliary_qubits': []},\n",
       "  'b868cddf-1321-435e-bf88-df748fb38da6': {'uuid': 'b868cddf-1321-435e-bf88-df748fb38da6',\n",
       "   'physical_channel': {'uuid': '21320d2d-2906-4e26-952e-64c8806cacf8'},\n",
       "   'auxiliary_qubits': []},\n",
       "  '7a7163ce-6f1e-4e24-996d-4cd5f4be8050': {'uuid': '7a7163ce-6f1e-4e24-996d-4cd5f4be8050',\n",
       "   'physical_channel': {'uuid': '91c49729-333a-4f1f-a3fc-012575e6045d'},\n",
       "   'auxiliary_qubits': []}},\n",
       " 'qubits': {},\n",
       " 'resonators': {}}"
      ]
     },
     "execution_count": 3,
     "metadata": {},
     "output_type": "execute_result"
    }
   ],
   "source": [
    "hw1 = make_Hardware()\n",
    "hw1.model_dump()"
   ]
  },
  {
   "cell_type": "code",
   "execution_count": 4,
   "metadata": {},
   "outputs": [],
   "source": [
    "hw2 = QuantumHardwareModel(**hw1.model_dump())"
   ]
  },
  {
   "cell_type": "code",
   "execution_count": 5,
   "metadata": {},
   "outputs": [
    {
     "data": {
      "text/plain": [
       "QuantumHardwareModel(physical_basebands={ComponentId(ef569ac8-7acc-45ce-9754-a0a179711fb9): PhysicalBaseband(ef569ac8-7acc-45ce-9754-a0a179711fb9), ComponentId(f1709708-646e-42a4-b100-eb6d2fa9afae): PhysicalBaseband(f1709708-646e-42a4-b100-eb6d2fa9afae), ComponentId(73b24030-dec2-4701-aa76-27f0b676925f): PhysicalBaseband(73b24030-dec2-4701-aa76-27f0b676925f), ComponentId(faa4c489-71e4-417e-9047-fe929642e1b6): PhysicalBaseband(faa4c489-71e4-417e-9047-fe929642e1b6), ComponentId(23de1e3e-8e48-4560-ba29-16e541060f1f): PhysicalBaseband(23de1e3e-8e48-4560-ba29-16e541060f1f), ComponentId(2afe6136-82ee-4809-8ba7-638788626db8): PhysicalBaseband(2afe6136-82ee-4809-8ba7-638788626db8), ComponentId(e4c32014-5dde-40c5-b571-2210b6b251e6): PhysicalBaseband(e4c32014-5dde-40c5-b571-2210b6b251e6), ComponentId(e460e75e-56d6-4671-80ff-14c0394439c0): PhysicalBaseband(e460e75e-56d6-4671-80ff-14c0394439c0), ComponentId(246547a2-99e7-433e-a6c4-bb60cbbe2b98): PhysicalBaseband(246547a2-99e7-433e-a6c4-bb60cbbe2b98), ComponentId(b08228e1-ceed-4f97-b37f-66a69a54dca6): PhysicalBaseband(b08228e1-ceed-4f97-b37f-66a69a54dca6)}, physical_channels={ComponentId(2ef70273-735d-4a66-ad6d-efdd761b0d4e): PhysicalChannel(2ef70273-735d-4a66-ad6d-efdd761b0d4e), ComponentId(4d79ba76-6efd-4c5f-b7f7-66e2581abcf9): PhysicalChannel(4d79ba76-6efd-4c5f-b7f7-66e2581abcf9), ComponentId(399713a4-bec8-49a5-a764-c7b012946ad8): PhysicalChannel(399713a4-bec8-49a5-a764-c7b012946ad8), ComponentId(e7283966-e664-4619-9923-3c621f5b02ba): PhysicalChannel(e7283966-e664-4619-9923-3c621f5b02ba), ComponentId(91c49729-333a-4f1f-a3fc-012575e6045d): PhysicalChannel(91c49729-333a-4f1f-a3fc-012575e6045d), ComponentId(f2068117-da06-4bda-8a5e-4bbfcd5a77eb): PhysicalChannel(f2068117-da06-4bda-8a5e-4bbfcd5a77eb), ComponentId(1cb3765b-4447-4757-ac4d-bd0b0ca92c32): PhysicalChannel(1cb3765b-4447-4757-ac4d-bd0b0ca92c32), ComponentId(15721e31-1bf7-4770-9a7f-552ed35b55e6): PhysicalChannel(15721e31-1bf7-4770-9a7f-552ed35b55e6), ComponentId(21320d2d-2906-4e26-952e-64c8806cacf8): PhysicalChannel(21320d2d-2906-4e26-952e-64c8806cacf8), ComponentId(254b8177-654a-4341-99bf-01368d221320): PhysicalChannel(254b8177-654a-4341-99bf-01368d221320)}, pulse_channels={ComponentId(acb22983-278a-40bd-aa20-9ff80b45964d): PulseChannel(acb22983-278a-40bd-aa20-9ff80b45964d), ComponentId(623ea974-f138-40d6-bcd0-00539de84398): PulseChannel(623ea974-f138-40d6-bcd0-00539de84398), ComponentId(3c4c4669-6bb0-4e7a-beab-051df0de4f30): PulseChannel(3c4c4669-6bb0-4e7a-beab-051df0de4f30), ComponentId(473a2cad-9f8c-4aff-af5e-184a45221814): PulseChannel(473a2cad-9f8c-4aff-af5e-184a45221814), ComponentId(750b4f3d-217e-4c1a-83b1-97f34e167b15): PulseChannel(750b4f3d-217e-4c1a-83b1-97f34e167b15), ComponentId(e500fbfd-ff27-42cb-9efb-004d36d24b1b): PulseChannel(e500fbfd-ff27-42cb-9efb-004d36d24b1b), ComponentId(9c8b8127-0a54-4555-896a-f165b4d1c5de): PulseChannel(9c8b8127-0a54-4555-896a-f165b4d1c5de), ComponentId(aff9d5f1-17e5-4aa4-9336-3d84825d2b67): PulseChannel(aff9d5f1-17e5-4aa4-9336-3d84825d2b67), ComponentId(b868cddf-1321-435e-bf88-df748fb38da6): PulseChannel(b868cddf-1321-435e-bf88-df748fb38da6), ComponentId(7a7163ce-6f1e-4e24-996d-4cd5f4be8050): PulseChannel(7a7163ce-6f1e-4e24-996d-4cd5f4be8050)}, qubits={}, resonators={})"
      ]
     },
     "execution_count": 5,
     "metadata": {},
     "output_type": "execute_result"
    }
   ],
   "source": [
    "hw2"
   ]
  },
  {
   "cell_type": "code",
   "execution_count": null,
   "metadata": {},
   "outputs": [],
   "source": []
  }
 ],
 "metadata": {
  "kernelspec": {
   "display_name": ".venv",
   "language": "python",
   "name": "python3"
  },
  "language_info": {
   "codemirror_mode": {
    "name": "ipython",
    "version": 3
   },
   "file_extension": ".py",
   "mimetype": "text/x-python",
   "name": "python",
   "nbconvert_exporter": "python",
   "pygments_lexer": "ipython3",
   "version": "3.12.6"
  }
 },
 "nbformat": 4,
 "nbformat_minor": 2
}
